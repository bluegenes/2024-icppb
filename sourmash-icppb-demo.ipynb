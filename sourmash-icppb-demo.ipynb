{
 "cells": [
  {
   "cell_type": "markdown",
   "id": "7ea82017-86c2-4217-a75f-05e891e913a0",
   "metadata": {},
   "source": [
    "2024 ICPPB Sourmash LIN demo\n",
    "===\n",
    "\n",
    "# Analyzing Metagenome Composition with sourmash using the LIN taxonomic framework\n",
    "\n",
    "Tessa Pierce Ward\n",
    "\n",
    "July 2024\n",
    "\n",
    "requires sourmash v4.8+\n",
    "\n",
    "This tutorial uses the `sourmash taxonomy` module, which was introduced via [blog post](https://bluegenes.github.io/sourmash-tax/)\n",
    "and was recently shown to perfom well for taxonomic profiling of long (and short) reads in [Evaluation of taxonomic classification and profiling methods for long-read shotgun metagenomic sequencing datasets](https://link.springer.com/article/10.1186/s12859-022-05103-0), Portik et al., 2022.\n",
    "\n",
    "\n",
    "In this tutorial, we'll use sourmash gather to analyze metagenomes using the [LIN taxonomic framework](https://dl.acm.org/doi/pdf/10.1145/3535508.3545546).\n",
    "Specifically, we will analyze plant metagenomes for the presence of _Ralstonia solanacearum_.\n",
    "The goal is to see if we can correctly assign the sequence in each file to the correct phylogenetic group, distinguishing between pathogenic and non-pathogenic strains.\n",
    "\n",
    "**Simulated Samples: Ralstonia + tomato host:**\n",
    "- `Sample0` - no Ralstonia\n",
    "- `Sample-II` - Ralstonia solanacearum, PhylIIB\n",
    "- `SampleIV` - Ralstonia solanacearum, Phyl-IV\n",
    "\n",
    "**Infected Field Sample (nanopore):**\n",
    "- `barcode16`"
   ]
  },
  {
   "cell_type": "markdown",
   "id": "4e90edb6-0a34-4588-98cf-de08daca8e04",
   "metadata": {},
   "source": [
    "## Setup"
   ]
  },
  {
   "cell_type": "code",
   "execution_count": 1,
   "id": "1b5b4d56-c346-4fb9-bb97-4aca10d3751e",
   "metadata": {},
   "outputs": [
    {
     "name": "stdout",
     "output_type": "stream",
     "text": [
      "  % Total    % Received % Xferd  Average Speed   Time    Time     Time  Current\n",
      "                                 Dload  Upload   Total   Spent    Left  Speed\n",
      "100   377  100   377    0     0    801      0 --:--:-- --:--:-- --:--:--   803\n",
      "  0     0    0     0    0     0      0      0 --:--:--  0:00:01 --:--:--     0\n",
      "100 4274k  100 4274k    0     0  2222k      0  0:00:01  0:00:01 --:--:-- 2222k\n",
      "  % Total    % Received % Xferd  Average Speed   Time    Time     Time  Current\n",
      "                                 Dload  Upload   Total   Spent    Left  Speed\n",
      "100   377  100   377    0     0   1759      0 --:--:-- --:--:-- --:--:--  1761\n",
      "  0     0    0     0    0     0      0      0 --:--:-- --:--:-- --:--:--     0\n",
      "100  4109  100  4109    0     0   4038      0  0:00:01  0:00:01 --:--:--  4038\n",
      "  % Total    % Received % Xferd  Average Speed   Time    Time     Time  Current\n",
      "                                 Dload  Upload   Total   Spent    Left  Speed\n",
      "100   377  100   377    0     0   2419      0 --:--:-- --:--:-- --:--:--  2432\n",
      "  0     0    0     0    0     0      0      0 --:--:-- --:--:-- --:--:--     0\n",
      "100  1109  100  1109    0     0   1430      0 --:--:-- --:--:-- --:--:--  1430\n"
     ]
    }
   ],
   "source": [
    "## Download Ralstonia 32-genome database and corresponding taxonomy files\n",
    "\n",
    "# database\n",
    "!curl -JLO https://osf.io/download/wxtk3/\n",
    "!mv ralstonia.sc1000.zip ralstonia.zip\n",
    "\n",
    "# taxonomy csv\n",
    "!curl -JLO https://osf.io/download/sj2z7/\n",
    "!mv ralstonia32.lin-taxonomy.csv ralstonia.lin-taxonomy.csv\n",
    "\n",
    "# lingroup csv\n",
    "!curl -JLO https://osf.io/download/nqms2/\n",
    "!mv LINgroups.csv ralstonia.lingroups.csv"
   ]
  },
  {
   "cell_type": "code",
   "execution_count": 2,
   "id": "c1f74558-bce4-47ec-9024-97198ff33f1a",
   "metadata": {},
   "outputs": [
    {
     "name": "stdout",
     "output_type": "stream",
     "text": [
      "  % Total    % Received % Xferd  Average Speed   Time    Time     Time  Current\n",
      "                                 Dload  Upload   Total   Spent    Left  Speed\n",
      "100   377  100   377    0     0   2553      0 --:--:-- --:--:-- --:--:--  2564\n",
      "  0     0    0     0    0     0      0      0 --:--:-- --:--:-- --:--:--     0\n",
      "100  821k  100  821k    0     0   923k      0 --:--:-- --:--:-- --:--:--  923k\n",
      "  % Total    % Received % Xferd  Average Speed   Time    Time     Time  Current\n",
      "                                 Dload  Upload   Total   Spent    Left  Speed\n",
      "100   377  100   377    0     0   1448      0 --:--:-- --:--:-- --:--:--  1450\n",
      "  0     0    0     0    0     0      0      0 --:--:-- --:--:-- --:--:--     0\n",
      "100  839k  100  839k    0     0   924k      0 --:--:-- --:--:-- --:--:--  924k\n",
      "  % Total    % Received % Xferd  Average Speed   Time    Time     Time  Current\n",
      "                                 Dload  Upload   Total   Spent    Left  Speed\n",
      "100   377  100   377    0     0    757      0 --:--:-- --:--:-- --:--:--   757\n",
      "  0     0    0     0    0     0      0      0 --:--:--  0:00:01 --:--:--     0\n",
      "100  849k  100  849k    0     0   532k      0  0:00:01  0:00:01 --:--:-- 3708k\n"
     ]
    }
   ],
   "source": [
    "### Next, download pre-made sourmash signatures made from the input metagenomes\n",
    "\n",
    "# download Sample-0 signature\n",
    "!curl -JLO https://osf.io/download/dvyt9/\n",
    "\n",
    "# download Sample-II signature\n",
    "!curl -JLO https://osf.io/download/agwdu/\n",
    "\n",
    "# download Sample-IV signature\n",
    "!curl -JLO https://osf.io/download/rngjq/\n",
    "\n",
    "# move downloaded signatures to ./inputs\n",
    "!mv Sample*.zip ./inputs"
   ]
  },
  {
   "cell_type": "markdown",
   "id": "99f2e96b-0eaa-4d61-bd90-9470c75b4cfe",
   "metadata": {},
   "source": [
    "### Look at the signatures\n",
    "\n",
    "Let's start with the `Sample-II` sample\n",
    "\n",
    "By running `sourmash sig fileinfo`, we can see information on the signatures available within the zip file.\n",
    "\n",
    "Here, you can see I've generated the metagenome signature with `scaled=100` and built three ksizes, `k=21`, k=31` and `k=51`"
   ]
  },
  {
   "cell_type": "code",
   "execution_count": 3,
   "id": "d4aac28a-0b7f-4392-8afc-4307790e7c6b",
   "metadata": {},
   "outputs": [
    {
     "name": "stdout",
     "output_type": "stream",
     "text": [
      "\u001b[K\n",
      "== This is sourmash version 4.8.10. ==\n",
      "\u001b[K== Please cite Irber et. al (2024), doi:10.21105/joss.06830. ==\n",
      "\n",
      "\u001b[K** loading from './inputs/Sample-II.sc1000.zip'\n",
      "path filetype: ZipFileLinearIndex\n",
      "location: /Users/ntward/dib-lab/2024-icppb/inputs/Sample-II.sc1000.zip\n",
      "is database? yes\n",
      "has manifest? yes\n",
      "num signatures: 3\n",
      "\u001b[K** examining manifest...\n",
      "total hashes: 105825\n",
      "summary of sketches:\n",
      "   1 sketches with DNA, k=21, scaled=1000, abund      33335 total hashes\n",
      "   1 sketches with DNA, k=31, scaled=1000, abund      35516 total hashes\n",
      "   1 sketches with DNA, k=51, scaled=1000, abund      36974 total hashes\n"
     ]
    }
   ],
   "source": [
    "!sourmash sig fileinfo ./inputs/Sample-II.sc1000.zip"
   ]
  },
  {
   "cell_type": "markdown",
   "id": "6a7679b5-01e4-4e63-81d3-bea8c89f7f0a",
   "metadata": {},
   "source": [
    "### Look at the database\n",
    "\n",
    "Here, you can see I've generated the database with `scaled=1000` and built three ksizes, `k=21`, `k=31` and `k=51`"
   ]
  },
  {
   "cell_type": "code",
   "execution_count": 4,
   "id": "7670cda4-b553-409b-abf5-f2a69b434bd9",
   "metadata": {},
   "outputs": [
    {
     "name": "stdout",
     "output_type": "stream",
     "text": [
      "\u001b[K\n",
      "== This is sourmash version 4.8.10. ==\n",
      "\u001b[K== Please cite Irber et. al (2024), doi:10.21105/joss.06830. ==\n",
      "\n",
      "\u001b[K** loading from 'ralstonia.zip'\n",
      "path filetype: ZipFileLinearIndex\n",
      "location: /Users/ntward/dib-lab/2024-icppb/ralstonia.zip\n",
      "is database? yes\n",
      "has manifest? yes\n",
      "num signatures: 96\n",
      "\u001b[K** examining manifest...\n",
      "total hashes: 524340\n",
      "summary of sketches:\n",
      "   32 sketches with DNA, k=21, scaled=1000            174967 total hashes\n",
      "   32 sketches with DNA, k=51, scaled=1000            174975 total hashes\n",
      "   32 sketches with DNA, k=31, scaled=1000            174398 total hashes\n"
     ]
    }
   ],
   "source": [
    "!sourmash sig fileinfo ralstonia.zip"
   ]
  },
  {
   "cell_type": "markdown",
   "id": "bbb6f1bf-181e-44c7-93ca-c306c88cf69b",
   "metadata": {},
   "source": [
    "> There's a lot of things to digest in this output but the two main ones are:\n",
    "> * there are 32 genomes represented in this database, each of which are sketched at k=21,k=31,k=51\n",
    "> * this database represents ~524 *million* k-mers (multiply number of hashes by the scaled number)\n"
   ]
  },
  {
   "cell_type": "markdown",
   "id": "09d9773b-e965-47b4-a52b-87ba4e0977f2",
   "metadata": {},
   "source": [
    "## Build a taxonomic profile of Sample II\n",
    "\n",
    "First, let's run `sourmash gather` to find the closest reference genome(s) in the database.\n",
    "If you want to read more about what sourmash is doing, please see [Lightweight compositional analysis of metagenomes with FracMinHash and minimum metagenome covers](https://www.biorxiv.org/content/10.1101/2022.01.11.475838v2), Irber et al., 2022."
   ]
  },
  {
   "cell_type": "code",
   "execution_count": 5,
   "id": "1f4f1e9c-3559-414d-bb6c-facd79ab38eb",
   "metadata": {},
   "outputs": [
    {
     "name": "stdout",
     "output_type": "stream",
     "text": [
      "\u001b[K\n",
      "== This is sourmash version 4.8.10. ==\n",
      "\u001b[K== Please cite Irber et. al (2024), doi:10.21105/joss.06830. ==\n",
      "\n",
      "\u001b[Kselecting specified query k=31\n",
      "\u001b[Kloaded query: Sample-II... (k=31, DNA)\n",
      "\u001b[K--ading from 'ralstonia.zip'...\n",
      "\u001b[Kloaded 96 total signatures from 1 locations.\n",
      "\u001b[Kafter selecting signatures compatible with search, 32 remain.\n",
      "\n",
      "\u001b[KStarting prefetch sweep across databases.\n",
      "\u001b[KPrefetch found 31 signatures with overlap >= 50.0 kbp.\n",
      "\u001b[KDoing gather to generate minimum metagenome cover.\n",
      "\n",
      "overlap     p_query p_match avg_abund\n",
      "---------   ------- ------- ---------\n",
      "1.3 Mbp        3.9%   26.6%       1.2    GCF_001373295.1 Ralstonia solanacear...\n",
      "\u001b[Kfound less than 50.0 kbp in common. => exiting\n",
      "\n",
      "found 1 matches total;\n",
      "the recovered matches hit 3.9% of the abundance-weighted query.\n",
      "the recovered matches hit 3.6% of the query k-mers (unweighted).\n",
      "\n"
     ]
    }
   ],
   "source": [
    "!sourmash gather inputs/Sample-II.sc1000.zip \\\n",
    "                 ralstonia.zip -k 31 \\\n",
    "                --output Sample-II.k31.gather.csv"
   ]
  },
  {
   "cell_type": "markdown",
   "id": "ea1c477c-ce7f-4c31-ba59-dfde5d802dbb",
   "metadata": {},
   "source": [
    "> The first step of gather (\"prefetch\") found all potential matches with at least 50kb matching sequence (31 of 32 total database genomes). Then, the greedy algorithm narrowed this to a single best match, ` GCF_001373295.1` which shared an estimated 1.3 Mbp with the metagenome (~3.9% of the total query dataset). We can visualize this by looking at a venn diagram of the shared k-mers between metagenome sample and the top match. The yellow intersection represend <4% of the metagenome and ~26.6% of the Ralstonia RS2 reference genome. This small match percentage is expected, though, since the dataset is a simulated plant metagenome with an in silico Ralstonia spike-in, and we are just searching for `Ralstonia` here.\n",
    "![sampleii.venn](https://hackmd.io/_uploads/SyssO_QPC.png)"
   ]
  },
  {
   "cell_type": "markdown",
   "id": "b7369d53-3370-4204-9140-c1e4f02dc28b",
   "metadata": {},
   "source": [
    "### Add taxonomic information and summarize up lingroups\n",
    "\n",
    "`sourmash gather` finds the smallest set of reference genomes that contains all the known information (k-mers) in the metagenome. In most cases, `gather` will find many metagenome matches. Here, we're only looking for `Ralstonia` matches and we only have a single gather result. Regardless, let's use `sourmash tax metagenome` to add taxonomic information and see if we've correctly assigned the pathogenic sequence.\n",
    "\n",
    "#### First, let's look at the relevant taxonomy files.\n",
    "\n",
    "These commands will show the first few lines of each file. If you prefer, you can look at a more human-friendly view by opening the files in a spreadsheet program.\n",
    "\n",
    "- **taxonomy_csv:** `ralstonia32.lin-taxonomy.csv`\n",
    "  - the essential columns are `lin` (`14;1;0;...`) and `accession` (`GCF_00`...)\n",
    "- **lingroups information:** `ralstonia.lingroups.csv`\n",
    "  - both columns are essential (`name`, `lin`)\n",
    "\n",
    "Look at the taxonomy file:"
   ]
  },
  {
   "cell_type": "code",
   "execution_count": 6,
   "id": "aada9e92-8ff6-4cf5-b9ad-95c221e4d4d4",
   "metadata": {},
   "outputs": [
    {
     "name": "stdout",
     "output_type": "stream",
     "text": [
      "lin,species,strain,filename,accession\n",
      "14;1;0;0;0;0;0;0;0;0;6;0;1;0;1;0;0;0;0;0,Ralstonia solanacearum,OE1_1,GCF_001879565.1_ASM187956v1_genomic.fna,GCF_001879565.1\n",
      "14;1;0;0;0;0;0;0;0;0;6;0;1;0;0;0;0;0;0;0,Ralstonia solanacearum,PSS1308,GCF_001870805.1_ASM187080v1_genomic.fna,GCF_001870805.1\n",
      "14;1;0;0;0;0;0;0;0;0;2;1;0;0;0;0;0;0;0;0,Ralstonia solanacearum,FJAT_1458,GCF_001887535.1_ASM188753v1_genomic.fna,GCF_001887535.1\n",
      "14;1;0;0;0;0;0;0;0;0;2;0;0;4;4;0;0;0;0;0,Ralstonia solanacearum,Pe_13,GCF_012062595.1_ASM1206259v1_genomic.fna,GCF_012062595.1\n"
     ]
    }
   ],
   "source": [
    "!head -n 5 ralstonia.lin-taxonomy.csv"
   ]
  },
  {
   "cell_type": "markdown",
   "id": "b9701687-d11a-45c4-97d8-589ad94b1daa",
   "metadata": {},
   "source": [
    "> The key columns are:\n",
    "> - `accession`, containing identifiers matching the database sketches\n",
    "> - `lin`, containing the LIN taxonomic information.\n",
    "\n",
    "Now, let's look at the lingroups file:"
   ]
  },
  {
   "cell_type": "code",
   "execution_count": 7,
   "id": "4566ed25-25cc-421a-9786-6463f5e070de",
   "metadata": {},
   "outputs": [
    {
     "name": "stdout",
     "output_type": "stream",
     "text": [
      "name,lin\n",
      "A_Total_reads;B_PhylI,14;1;0;0;0;0;0;0;0;0\n",
      "A_Total_reads;B_PhylI;C_seq14,14;1;0;0;0;0;0;0;0;0;3\n",
      "A_Total_reads;B_PhylI;C_seq15,14;1;0;0;0;0;0;0;0;0;2\n",
      "A_Total_reads;B_PhylI;C_seq34,14;1;0;0;0;0;0;0;0;0;6\n"
     ]
    }
   ],
   "source": [
    "!head -n5 ralstonia.lingroups.csv"
   ]
  },
  {
   "cell_type": "markdown",
   "id": "a93a838c-a68f-4190-9ebe-b8397c618d4b",
   "metadata": {},
   "source": [
    "> Here, we have two columns:\n",
    "> - `name` - the name for each lingroup. \n",
    "> - `lin` - the LIN prefix corresponding to each group."
   ]
  },
  {
   "cell_type": "markdown",
   "id": "1d1972bb-4ee4-48e2-9003-99fd4becba8b",
   "metadata": {},
   "source": [
    "### Now, run `sourmash tax metagenome` to integrate taxonomic information into `gather` results\n",
    "\n",
    "Using the `gather` output we generated above, we can integrate taxonomic information and summarize up \"ranks\" (lin positions). We can produce several different types of outputs, including a `lingroup` report.\n",
    "\n",
    "`lingroup` format summarizes the taxonomic information at each `lingroup`, and produces a report with 4 columns: \n",
    "- `name` (from lingroups file)\n",
    "- `lin` (from lingroups file)\n",
    "- `percent_containment` - total % of the file matched to this lingroup\n",
    "- `num_bp_contained` - estimated number of bp matched to this lingroup\n",
    "\n",
    "> Since sourmash assigns all k-mers to individual genomes, no reads/base pairs are \"assigned\" to higher taxonomic ranks or lingroups (as with Kraken-style LCA). Here, \"percent_containment\" and \"num_bp_contained\" is calculated by summarizing the assignments made to all genomes in a lingroup. This is akin to the \"contained\" information in Kraken-style reports.\n",
    "\n",
    "Run `tax metagenome`:"
   ]
  },
  {
   "cell_type": "code",
   "execution_count": 8,
   "id": "471396d6-7a8c-4ee1-8aad-539963b29932",
   "metadata": {},
   "outputs": [
    {
     "name": "stdout",
     "output_type": "stream",
     "text": [
      "\u001b[K\n",
      "== This is sourmash version 4.8.10. ==\n",
      "\u001b[K== Please cite Irber et. al (2024), doi:10.21105/joss.06830. ==\n",
      "\n",
      "\u001b[KTrying to read LIN taxonomy assignments.\n",
      "\u001b[Kloaded 1 gather results from 'Sample-II.k31.gather.csv'.\n",
      "\u001b[Kloaded results for 1 queries from 1 gather CSVs\n",
      "\u001b[KRead 20 lingroup rows and found 20 distinct lingroup prefixes.\n",
      "name\tlin\tpercent_containment\tnum_bp_contained\n",
      "A_Total_reads;B_PhylII\t14;1;0;0;0;3;0\t3.94\t1464000\n",
      "A_Total_reads;B_PhylII;C_IIB\t14;1;0;0;0;3;0;0\t3.94\t1464000\n",
      "A_Total_reads;B_PhylII;C_IIB;D_seq1&seq2\t14;1;0;0;0;3;0;0;0;0;1;0;0;0;0\t3.94\t1464000\n",
      "A_Total_reads;B_PhylII;C_IIB;D_seq1&seq2;E_seq1\t14;1;0;0;0;3;0;0;0;0;1;0;0;0;0;0;0\t3.94\t1464000\n"
     ]
    }
   ],
   "source": [
    "!sourmash tax metagenome -g Sample-II.k31.gather.csv \\\n",
    "                        -t ralstonia.lin-taxonomy.csv \\\n",
    "                        --lins --lingroup ralstonia.lingroups.csv"
   ]
  },
  {
   "cell_type": "markdown",
   "id": "c4b72827-fe66-4878-9907-c1d1e2d3d068",
   "metadata": {},
   "source": [
    "> Here, the most specific lingroup we assign to is `A_Total_reads;B_PhylII;C_IIB;D_seq1&seq2;E_seq1`, which means this is in **phylotype IIB, sequevar 1**. This is the USDA select agent!"
   ]
  },
  {
   "cell_type": "markdown",
   "id": "f36be58e-cbc1-426b-b175-2c0b8a0f9106",
   "metadata": {},
   "source": [
    "## Interlude: simulated samples can be too easy\n",
    "These samples were generated via read simulation from ralstonia genomes, and it turns out this one was created from the RS2 genome we are matching here. Let's try excluding this specific genome to see if we still find the same results without an exact database match. This should be more realistic.\n",
    "\n",
    "We have a gather command-line option for just this situation, `--exclude-db-pattern`. Let's run it and predict taxonomy."
   ]
  },
  {
   "cell_type": "code",
   "execution_count": 9,
   "id": "ee646b26-bcd7-426e-921f-ff04dc409d3d",
   "metadata": {},
   "outputs": [
    {
     "name": "stdout",
     "output_type": "stream",
     "text": [
      "\u001b[K\n",
      "== This is sourmash version 4.8.10. ==\n",
      "\u001b[K== Please cite Irber et. al (2024), doi:10.21105/joss.06830. ==\n",
      "\n",
      "\u001b[Kselecting specified query k=31\n",
      "\u001b[Kloaded query: Sample-II... (k=31, DNA)\n",
      "\u001b[K--ading from 'ralstonia.zip'...\n",
      "\u001b[Kloaded 96 total signatures from 1 locations.\n",
      "\u001b[Kafter selecting signatures compatible with search, 32 remain.\n",
      "\n",
      "\u001b[KStarting prefetch sweep across databases.\n",
      "\u001b[KPrefetch found 30 signatures with overlap >= 50.0 kbp.\n",
      "\u001b[KDoing gather to generate minimum metagenome cover.\n",
      "\n",
      "overlap     p_query p_match avg_abund\n",
      "---------   ------- ------- ---------\n",
      "1.2 Mbp        3.9%   24.0%       1.2    GCF_002251655.1 Ralstonia solanacear...\n",
      "\u001b[Kfound less than 50.0 kbp in common. => exiting\n",
      "\n",
      "found 1 matches total;\n",
      "the recovered matches hit 3.9% of the abundance-weighted query.\n",
      "the recovered matches hit 3.5% of the query k-mers (unweighted).\n",
      "\n",
      "\u001b[K\n",
      "== This is sourmash version 4.8.10. ==\n",
      "\u001b[K== Please cite Irber et. al (2024), doi:10.21105/joss.06830. ==\n",
      "\n",
      "\u001b[KTrying to read LIN taxonomy assignments.\n",
      "\u001b[Kloaded 1 gather results from 'Sample-II.k31.gather.noRS2.csv'.\n",
      "\u001b[Kloaded results for 1 queries from 1 gather CSVs\n",
      "\u001b[KRead 20 lingroup rows and found 20 distinct lingroup prefixes.\n",
      "name\tlin\tpercent_containment\tnum_bp_contained\n",
      "A_Total_reads;B_PhylII\t14;1;0;0;0;3;0\t3.91\t1451000\n",
      "A_Total_reads;B_PhylII;C_IIB\t14;1;0;0;0;3;0;0\t3.91\t1451000\n",
      "A_Total_reads;B_PhylII;C_IIB;D_seq1&seq2\t14;1;0;0;0;3;0;0;0;0;1;0;0;0;0\t3.91\t1451000\n",
      "A_Total_reads;B_PhylII;C_IIB;D_seq1&seq2;E_seq1\t14;1;0;0;0;3;0;0;0;0;1;0;0;0;0;0;0\t3.91\t1451000\n"
     ]
    }
   ],
   "source": [
    "!sourmash gather inputs/Sample-II.sc1000.zip ralstonia.zip \\\n",
    "                -k 31 -o Sample-II.k31.gather.noRS2.csv \\\n",
    "                --exclude-db-pattern \"RS2\"\n",
    "\n",
    "!sourmash tax metagenome -g Sample-II.k31.gather.noRS2.csv -t ralstonia.lin-taxonomy.csv \\\n",
    "                        --lins --lingroup ralstonia.lingroups.csv"
   ]
  },
  {
   "cell_type": "markdown",
   "id": "3dd20679-f726-4030-b3fd-d5139e9e44a1",
   "metadata": {},
   "source": [
    "> Without the exact genome the reads were generated from, we get a slightly smaller sequence overlap (1.2Mbp instead of 1.3Mbp). However, when we add the LINgroup information, we still find the right group, `A_Total_reads;B_PhylII;C_IIB;D_seq1&seq2;E_seq1`, or Phylotype IIB, sequevar 1 (pathogenic)."
   ]
  },
  {
   "cell_type": "markdown",
   "id": "befbaa18-73fc-44dc-8722-263361528964",
   "metadata": {},
   "source": [
    "# Repeat for Remaining Samples"
   ]
  },
  {
   "cell_type": "markdown",
   "id": "9d299810-133a-49c3-90a3-467c8b8d2d8e",
   "metadata": {},
   "source": [
    "### Sample-0"
   ]
  },
  {
   "cell_type": "code",
   "execution_count": 10,
   "id": "67773832-208e-4713-8fcf-9f7139468f38",
   "metadata": {},
   "outputs": [
    {
     "name": "stdout",
     "output_type": "stream",
     "text": [
      "\u001b[K\n",
      "== This is sourmash version 4.8.10. ==\n",
      "\u001b[K== Please cite Irber et. al (2024), doi:10.21105/joss.06830. ==\n",
      "\n",
      "\u001b[Kselecting specified query k=31\n",
      "\u001b[Kloaded query: Sample-0... (k=31, DNA)\n",
      "\u001b[K--ading from 'ralstonia.zip'...\n",
      "\u001b[Kloaded 96 total signatures from 1 locations.\n",
      "\u001b[Kafter selecting signatures compatible with search, 32 remain.\n",
      "\n",
      "\u001b[KStarting prefetch sweep across databases.\n",
      "\u001b[KPrefetch found 0 signatures with overlap >= 50.0 kbp.\n",
      "\u001b[KDoing gather to generate minimum metagenome cover.\n",
      "\u001b[Kfound less than 50.0 kbp in common. => exiting\n",
      "\u001b[K\n",
      "No matches found for --threshold-bp at 50.0 kbp.\n",
      "\n"
     ]
    }
   ],
   "source": [
    "# gather\n",
    "!sourmash gather inputs/Sample-0.sc1000.zip \\\n",
    "                ralstonia.zip -k 31 \\\n",
    "                -o Sample-0.dna.k31.gather.csv"
   ]
  },
  {
   "cell_type": "markdown",
   "id": "c859ff36-2271-4e5d-aae1-9ef20730d88e",
   "metadata": {},
   "source": [
    "#### gather found no sequence matches! Let's try lowering the detection threshold:"
   ]
  },
  {
   "cell_type": "code",
   "execution_count": 11,
   "id": "267c1c3f-4636-40b7-bc53-345f70d7598f",
   "metadata": {},
   "outputs": [
    {
     "name": "stdout",
     "output_type": "stream",
     "text": [
      "\u001b[K\n",
      "== This is sourmash version 4.8.10. ==\n",
      "\u001b[K== Please cite Irber et. al (2024), doi:10.21105/joss.06830. ==\n",
      "\n",
      "\u001b[Kselecting specified query k=31\n",
      "\u001b[Kloaded query: Sample-0... (k=31, DNA)\n",
      "\u001b[K--ading from 'ralstonia.zip'...\n",
      "\u001b[Kloaded 96 total signatures from 1 locations.\n",
      "\u001b[Kafter selecting signatures compatible with search, 32 remain.\n",
      "\n",
      "\u001b[KStarting prefetch sweep across databases.\n",
      "\u001b[KPrefetch found 0 signatures with overlap >= 3.0 kbp.\n",
      "\u001b[KDoing gather to generate minimum metagenome cover.\n",
      "\u001b[Kfound less than 3.0 kbp in common. => exiting\n",
      "\u001b[K\n",
      "No matches found for --threshold-bp at 3.0 kbp.\n",
      "\n"
     ]
    }
   ],
   "source": [
    "!sourmash gather inputs/Sample-0.sc100.zip \\\n",
    "                 ralstonia.zip -k 31 \\\n",
    "                 --threshold-bp 3000 \\\n",
    "                 -o Sample-0.k31.gather.csv"
   ]
  },
  {
   "cell_type": "markdown",
   "id": "40668333-7aa8-445b-bbf4-bcc8e9846fe4",
   "metadata": {},
   "source": [
    "> Which means we *still* didn't find anything! It turns out that Sample-0 is a control sample that does not have any *Ralstonia*.\n"
   ]
  },
  {
   "cell_type": "markdown",
   "id": "011bb43c-733e-4413-85f9-92b5b9f98f55",
   "metadata": {},
   "source": [
    "### Sample-IV"
   ]
  },
  {
   "cell_type": "code",
   "execution_count": 12,
   "id": "55057020-436d-4619-958a-ce41fc8eb9e8",
   "metadata": {},
   "outputs": [
    {
     "name": "stdout",
     "output_type": "stream",
     "text": [
      "\u001b[K\n",
      "== This is sourmash version 4.8.10. ==\n",
      "\u001b[K== Please cite Irber et. al (2024), doi:10.21105/joss.06830. ==\n",
      "\n",
      "\u001b[Kselecting specified query k=31\n",
      "\u001b[Kloaded query: Sample-IV... (k=31, DNA)\n",
      "\u001b[K--ading from 'ralstonia.zip'...\n",
      "\u001b[Kloaded 96 total signatures from 1 locations.\n",
      "\u001b[Kafter selecting signatures compatible with search, 32 remain.\n",
      "\n",
      "\u001b[KStarting prefetch sweep across databases.\n",
      "\u001b[KPrefetch found 31 signatures with overlap >= 50.0 kbp.\n",
      "\u001b[KDoing gather to generate minimum metagenome cover.\n",
      "\n",
      "overlap     p_query p_match avg_abund\n",
      "---------   ------- ------- ---------\n",
      "1.2 Mbp        3.7%   22.1%       1.2    GCF_003515185.1 Ralstonia solanacear...\n",
      "\u001b[Kfound less than 50.0 kbp in common. => exiting\n",
      "\n",
      "found 1 matches total;\n",
      "the recovered matches hit 3.7% of the abundance-weighted query.\n",
      "the recovered matches hit 3.4% of the query k-mers (unweighted).\n",
      "\n"
     ]
    }
   ],
   "source": [
    " !sourmash gather inputs/Sample-IV.sc1000.zip \\\n",
    "                  ralstonia.zip -k 31 \\\n",
    "                  -o Sample-IV.k31.gather.csv"
   ]
  },
  {
   "cell_type": "markdown",
   "id": "0398cffb-6610-4481-8bf9-cdcca4acd8d0",
   "metadata": {},
   "source": [
    "> We can look directly at the k-mer overlap between the SampleIV and this Ralstonia genome:\n",
    "![sampleiv.venn](https://hackmd.io/_uploads/rk1FLdQDC.png)"
   ]
  },
  {
   "cell_type": "code",
   "execution_count": 13,
   "id": "437d02e2-83d5-48f4-a185-bf47920b40b2",
   "metadata": {},
   "outputs": [
    {
     "name": "stdout",
     "output_type": "stream",
     "text": [
      "\u001b[K\n",
      "== This is sourmash version 4.8.10. ==\n",
      "\u001b[K== Please cite Irber et. al (2024), doi:10.21105/joss.06830. ==\n",
      "\n",
      "\u001b[KTrying to read LIN taxonomy assignments.\n",
      "\u001b[Kloaded 1 gather results from 'Sample-IV.k31.gather.csv'.\n",
      "\u001b[Kloaded results for 1 queries from 1 gather CSVs\n",
      "\u001b[KRead 20 lingroup rows and found 20 distinct lingroup prefixes.\n",
      "name\tlin\tpercent_containment\tnum_bp_contained\n",
      "A_Total_reads;B_PhylIV\t14;1;0;0;0;2;0;0;0\t3.72\t1404000\n",
      "A_Total_reads;B_PhylIV;C_seq10\t14;1;0;0;0;2;0;0;0;0;0;0\t3.72\t1404000\n"
     ]
    }
   ],
   "source": [
    "!sourmash tax metagenome -g Sample-IV.k31.gather.csv -t ralstonia.lin-taxonomy.csv \\\n",
    "                        --lins --lingroup ralstonia.lingroups.csv"
   ]
  },
  {
   "cell_type": "markdown",
   "id": "8a833279-abbc-4cae-b95a-d86aba6c6d72",
   "metadata": {},
   "source": [
    "> We find that this genome is in **Phylotype IV, seq10** group (non-pathogenic)."
   ]
  },
  {
   "cell_type": "markdown",
   "id": "dbc093e5-3c44-4ca7-95ad-b91d18b1f293",
   "metadata": {},
   "source": [
    "# infected field sample (\"barcode 16\"; nanopore):\n",
    "\n",
    "Let's run the infected field sample for a more realistic example."
   ]
  },
  {
   "cell_type": "code",
   "execution_count": 14,
   "id": "bf64aa8d-ed4e-498b-94c7-df5416512b4d",
   "metadata": {},
   "outputs": [
    {
     "name": "stdout",
     "output_type": "stream",
     "text": [
      "  % Total    % Received % Xferd  Average Speed   Time    Time     Time  Current\n",
      "                                 Dload  Upload   Total   Spent    Left  Speed\n",
      "100   377  100   377    0     0   3050      0 --:--:-- --:--:-- --:--:--  3040\n",
      "  0     0    0     0    0     0      0      0 --:--:-- --:--:-- --:--:--     0\n",
      "100 21.9M  100 21.9M    0     0  7543k      0  0:00:02  0:00:02 --:--:-- 10.3M\n"
     ]
    }
   ],
   "source": [
    "# Download the sample\n",
    "!curl -JLO https://osf.io/download/s2q83/\n",
    "!mv bc16.scaled1000.zip ./inputs"
   ]
  },
  {
   "cell_type": "code",
   "execution_count": 15,
   "id": "a870d19c-0d1a-438d-86ea-245ecd719e80",
   "metadata": {},
   "outputs": [
    {
     "name": "stdout",
     "output_type": "stream",
     "text": [
      "\u001b[K\n",
      "== This is sourmash version 4.8.10. ==\n",
      "\u001b[K== Please cite Irber et. al (2024), doi:10.21105/joss.06830. ==\n",
      "\n",
      "\u001b[Kselecting specified query k=31\n",
      "\u001b[Kloaded query: bc16... (k=31, DNA)\n",
      "\u001b[K--ading from 'ralstonia.zip'...\n",
      "\u001b[Kloaded 96 total signatures from 1 locations.\n",
      "\u001b[Kafter selecting signatures compatible with search, 32 remain.\n",
      "\n",
      "\u001b[KStarting prefetch sweep across databases.\n",
      "\u001b[KPrefetch found 32 signatures with overlap >= 50.0 kbp.\n",
      "\u001b[KDoing gather to generate minimum metagenome cover.\n",
      "\n",
      "overlap     p_query p_match avg_abund\n",
      "---------   ------- ------- ---------\n",
      "5.1 Mbp       17.8%   97.2%      57.5    GCF_002251605.2 Ralstonia solanacear...\n",
      "2.7 Mbp        0.3%    4.0%      21.2    GCF_000825845.1 Ralstonia solanacear...\n",
      "2.2 Mbp        0.0%    2.1%       5.0    GCF_001644815.1 Ralstonia solanacear...\n",
      "0.8 Mbp        0.0%    1.6%       2.0    GCF_012062595.1 Ralstonia solanacear...\n",
      "4.9 Mbp        0.2%    1.2%      44.8    GCF_002251695.1 Ralstonia solanacear...\n",
      "2.1 Mbp        0.0%    1.0%       1.4    GCF_000212635.3 Ralstonia solanacear...\n",
      "\u001b[Kfound less than 50.0 kbp in common. => exiting\n",
      "\n",
      "found 6 matches total;\n",
      "the recovered matches hit 18.3% of the abundance-weighted query.\n",
      "the recovered matches hit 0.6% of the query k-mers (unweighted).\n",
      "\n"
     ]
    }
   ],
   "source": [
    "!sourmash gather inputs/bc16.scaled1000.zip ralstonia.zip \\\n",
    "                -k 31 --output barcode16.k31.gather.csv"
   ]
  },
  {
   "cell_type": "markdown",
   "id": "327d1aa2-b0bc-44eb-9e35-b2d5deca2098",
   "metadata": {},
   "source": [
    "> The initial search (prefetch) found that all 32 genomes had shared sequence with our query. The minimum metagenome cover shows 6 genomes with non-overlapping matches. Nearly 18% of the abundance-weighted query matched to the GCF_002251605.2 Ralstonia solanacearum UW700 genome."
   ]
  },
  {
   "cell_type": "markdown",
   "id": "2c76bc2c-543d-42f4-af42-2a2d3dd3363b",
   "metadata": {},
   "source": [
    "### Interlude: Can we match host k-mers?\n",
    "Just for fun, let's try adding a random tomato genome to the database, to see if we can match the host k-mers:"
   ]
  },
  {
   "cell_type": "code",
   "execution_count": 16,
   "id": "1a1a2edc-1c09-4348-8a3b-144268569f8d",
   "metadata": {},
   "outputs": [
    {
     "name": "stdout",
     "output_type": "stream",
     "text": [
      "  % Total    % Received % Xferd  Average Speed   Time    Time     Time  Current\n",
      "                                 Dload  Upload   Total   Spent    Left  Speed\n",
      "100   377  100   377    0     0   2091      0 --:--:-- --:--:-- --:--:--  2094\n",
      "  0     0    0     0    0     0      0      0 --:--:-- --:--:-- --:--:--     0\n",
      "Warning: Failed to open the file GCF_000188115.5_SL3.1.zip: File exists\n",
      "  0     0    0     0    0     0      0      0 --:--:-- --:--:-- --:--:--     0\n",
      "curl: (23) Failed writing header\n",
      "\u001b[K\n",
      "== This is sourmash version 4.8.10. ==\n",
      "\u001b[K== Please cite Irber et. al (2024), doi:10.21105/joss.06830. ==\n",
      "\n",
      "\u001b[Kselecting specified query k=31\n",
      "\u001b[Kloaded query: bc16... (k=31, DNA)\n",
      "\u001b[K--ading from 'GCF_000188115.5_SL3.1.zip'...\n",
      "\u001b[Kloaded 99 total signatures from 2 locations.\n",
      "\u001b[Kafter selecting signatures compatible with search, 33 remain.\n",
      "\n",
      "\u001b[KStarting prefetch sweep across databases.\n",
      "\u001b[KPrefetch found 33 signatures with overlap >= 50.0 kbp.\n",
      "\u001b[KDoing gather to generate minimum metagenome cover.\n",
      "\n",
      "overlap     p_query p_match avg_abund\n",
      "---------   ------- ------- ---------\n",
      "210.1 Mbp     19.8%   33.4%       1.5    GCF_000188115.5 Solanum lycopersicum...\n",
      "5.1 Mbp       17.8%   97.2%      57.5    GCF_002251605.2 Ralstonia solanacear...\n",
      "2.7 Mbp        0.3%    4.0%      21.2    GCF_000825845.1 Ralstonia solanacear...\n",
      "2.2 Mbp        0.0%    2.1%       5.0    GCF_001644815.1 Ralstonia solanacear...\n",
      "0.8 Mbp        0.0%    1.6%       2.0    GCF_012062595.1 Ralstonia solanacear...\n",
      "4.9 Mbp        0.2%    1.2%      44.8    GCF_002251695.1 Ralstonia solanacear...\n",
      "2.1 Mbp        0.0%    1.0%       1.4    GCF_000212635.3 Ralstonia solanacear...\n",
      "\u001b[Kfound less than 50.0 kbp in common. => exiting\n",
      "\n",
      "found 7 matches total;\n",
      "the recovered matches hit 38.2% of the abundance-weighted query.\n",
      "the recovered matches hit 21.7% of the query k-mers (unweighted).\n",
      "\n"
     ]
    }
   ],
   "source": [
    "# download signature from a tomato genome \n",
    "!curl -JLO https://osf.io/download/28pjz/\n",
    "\n",
    "!sourmash gather inputs/bc16.scaled1000.zip ralstonia.zip \\\n",
    "                GCF_000188115.5_SL3.1.zip -k 31 \\\n",
    "                -o barcode16.k31.gather-w-host.csv"
   ]
  },
  {
   "cell_type": "markdown",
   "id": "973d92c5-40f1-440a-8c8b-9e0c3dc24a90",
   "metadata": {},
   "source": [
    ">We can plot the k-mer overlap between this sample and the two top matches: Ralstonia UW700 and the Heinz 1706 tomato genome. Here, we see that while the Ralstonia k-mers are a small portion of the overall file (0.6%; small circle on the left), nearly the entire reference genome is present in the barcode16 sample (97.2%). This tomato genome, in constrast, shares a little less than half its content with the sample. It was randomly chosen and may not reflect the cultivar where bc16 was sampled from :).\n",
    "![bc16.venn](https://hackmd.io/_uploads/H1UMrdXDR.png)\n",
    "> plotted with the sourmash_plugin_venn library https://github.com/sourmash-bio/sourmash_plugin_venn"
   ]
  },
  {
   "cell_type": "markdown",
   "id": "e6188f33-66f6-45db-af7c-76c79e031c0e",
   "metadata": {},
   "source": [
    "#### run tax metagenome\n",
    "We could run tax metagenome with these results. However, since we don't have LIN or LINgroup information for the tomato genome, the results will only include the Ralstonia matches anyway. Since the tomato genome did not share any k-mers with the Ralstonia genomes, it will not impact Ralstonia taxonomic assignment."
   ]
  },
  {
   "cell_type": "code",
   "execution_count": 17,
   "id": "6c460726-75cf-40c9-aac4-b791db5a5787",
   "metadata": {},
   "outputs": [
    {
     "name": "stdout",
     "output_type": "stream",
     "text": [
      "\u001b[K\n",
      "== This is sourmash version 4.8.10. ==\n",
      "\u001b[K== Please cite Irber et. al (2024), doi:10.21105/joss.06830. ==\n",
      "\n",
      "\u001b[KTrying to read LIN taxonomy assignments.\n",
      "\u001b[Kloaded 1 gather results from 'barcode16.k31.gather.csv'.\n",
      "\u001b[Kloaded results for 1 queries from 1 gather CSVs\n",
      "\u001b[KRead 20 lingroup rows and found 20 distinct lingroup prefixes.\n",
      "name\tlin\tpercent_containment\tnum_bp_contained\n",
      "A_Total_reads;B_PhylI\t14;1;0;0;0;0;0;0;0;0\t0.01\t182000\n",
      "A_Total_reads;B_PhylI;C_seq15\t14;1;0;0;0;0;0;0;0;0;2\t0.01\t182000\n",
      "A_Total_reads;B_PhylII\t14;1;0;0;0;3;0\t18.33\t300671000\n",
      "A_Total_reads;B_PhylII;C_IIA\t14;1;0;0;0;3;0;1\t0.28\t4629000\n",
      "A_Total_reads;B_PhylII;C_IIC\t14;1;0;0;0;3;0;2\t18.01\t295389000\n",
      "A_Total_reads;B_PhylII;C_IIB\t14;1;0;0;0;3;0;0\t0.04\t653000\n",
      "A_Total_reads;B_PhylII;C_IIB;D_seq4\t14;1;0;0;0;3;0;0;1;0;0;0;0;0\t0.04\t579000\n"
     ]
    }
   ],
   "source": [
    "!sourmash tax metagenome -g barcode16.k31.gather.csv \\\n",
    "                        -t ralstonia.lin-taxonomy.csv \\\n",
    "                        --lins --lingroup ralstonia.lingroups.csv"
   ]
  },
  {
   "cell_type": "markdown",
   "id": "0fa72e81-23e0-4f92-bdfc-43e6fc9d76d7",
   "metadata": {},
   "source": [
    "> 18% of the sample matched to A_Total_reads;B_PhylII;C_IIC, so we find that this samples is also in **Phylotype IIC**, which is not the pathogenic lineage."
   ]
  },
  {
   "cell_type": "markdown",
   "id": "42f681bc-2fa7-4d3d-8750-97c996026136",
   "metadata": {},
   "source": [
    "## Summary and concluding thoughts\n",
    "\n",
    "The LIN taxonomic framework may be useful distinguishing groups below the species level, and we can use LINs and LINgroups with `sourmash tax`. For low level matches, the gather greedy\n",
    "approach can struggle. In cases where there is an identical % match between two reference genomes, the reported match is selected at random. We are working on ways to better warn users about places where this behavior occurs and welcome\n",
    "feedback and suggestions on our [issue tracker](https://github.com/sourmash-bio/sourmash/issues/new).\n",
    "\n",
    "We typically recommend running at `scaled=1000` (our default), as this works for most microbial use cases. However, for smaller samples and databases or for distinguishing between highly related genomes, you may want to run at higher resolution (lower scaled), e.g. scaled=100 or lower. Note, higher resolution signatures are larger and take longer to build and search. See more information on scaled and thresholds [here](https://sourmash.readthedocs.io/en/latest/faq.html#what-scaled-values-should-i-use-with-sourmash).\n",
    "\n",
    "Sourmash taxonomy can also be used with NCBI, GTDB, and ICTV taxonomies. For a walkthough using GTDB and sample-specific assemblies with an environmental metagenome, see [here](https://sourmash.readthedocs.io/en/latest/tutorial-lemonade.html).\n",
    "\n",
    "NOTE: We're in the process of upgrading sourmash commands for multithreading and faster processing. If you get comfortable with these commands and want to process more samples, please check out the **[branchwater plugin](https://github.com/sourmash-bio/sourmash_plugin_branchwater/tree/main/doc) e.g. `fastmultigather` command for faster execution and to run multiple samples at once.**"
   ]
  }
 ],
 "metadata": {
  "kernelspec": {
   "display_name": "Python 3 (ipykernel)",
   "language": "python",
   "name": "python3"
  },
  "language_info": {
   "codemirror_mode": {
    "name": "ipython",
    "version": 3
   },
   "file_extension": ".py",
   "mimetype": "text/x-python",
   "name": "python",
   "nbconvert_exporter": "python",
   "pygments_lexer": "ipython3",
   "version": "3.11.9"
  }
 },
 "nbformat": 4,
 "nbformat_minor": 5
}
